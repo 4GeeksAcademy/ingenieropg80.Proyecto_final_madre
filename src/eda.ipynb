{
 "cells": [
  {
   "cell_type": "markdown",
   "id": "dfd02483",
   "metadata": {},
   "source": [
    "# Cargamos Librerías"
   ]
  },
  {
   "cell_type": "code",
   "execution_count": 1,
   "id": "98016ec1",
   "metadata": {},
   "outputs": [],
   "source": [
    "import pandas as pd\n",
    "import openpyxl\n",
    "import warnings\n",
    "import os\n",
    "import matplotlib.pyplot as plt \n",
    "import seaborn as sns\n",
    "import utils as eda\n",
    "\n",
    "def warn(*args, **kwargs):\n",
    "    pass\n",
    "warnings.warn = warn\n",
    "warnings.filterwarnings(\"ignore\", category=FutureWarning)"
   ]
  },
  {
   "cell_type": "markdown",
   "id": "3819c77e",
   "metadata": {},
   "source": [
    "# Cargamos los Dataset"
   ]
  },
  {
   "cell_type": "code",
   "execution_count": 2,
   "id": "9cc896a7",
   "metadata": {},
   "outputs": [],
   "source": [
    "movies = pd.read_csv(\"../data/interim/movies-data/ml-32m/movies.csv\")\n",
    "tags = pd.read_csv(\"../data/interim/movies-data/ml-32m/tags.csv\")\n",
    "ratings = pd.read_csv(\"../data/interim/movies-data/ml-32m/ratings.csv\")"
   ]
  },
  {
   "cell_type": "code",
   "execution_count": 3,
   "id": "c7670601",
   "metadata": {},
   "outputs": [
    {
     "name": "stdout",
     "output_type": "stream",
     "text": [
      "Variables numéricas: ['movieId']\n",
      "Variables no numéricas: ['title', 'genres']\n",
      "\n",
      "Shape del dataset: (87585, 3)\n",
      "\n",
      "Información del dataset:\n",
      "<class 'pandas.core.frame.DataFrame'>\n",
      "RangeIndex: 87585 entries, 0 to 87584\n",
      "Data columns (total 3 columns):\n",
      " #   Column   Non-Null Count  Dtype \n",
      "---  ------   --------------  ----- \n",
      " 0   movieId  87585 non-null  int64 \n",
      " 1   title    87585 non-null  object\n",
      " 2   genres   87585 non-null  object\n",
      "dtypes: int64(1), object(2)\n",
      "memory usage: 2.0+ MB\n",
      "None\n",
      "\n",
      "Valores nulos por columna:\n",
      "movieId    0\n",
      "title      0\n",
      "genres     0\n",
      "dtype: int64\n",
      "\n",
      "Filas duplicadas:\n",
      "Empty DataFrame\n",
      "Columns: [movieId, title, genres]\n",
      "Index: []\n"
     ]
    }
   ],
   "source": [
    "eda.analisis(movies)"
   ]
  },
  {
   "cell_type": "markdown",
   "id": "eb7d40a4",
   "metadata": {},
   "source": [
    "El dataset de películas, *movies*, contiene 3 variables: una variable numérica y dos variables categóricas. Hay 87585 instancias, sin valores nulos."
   ]
  },
  {
   "cell_type": "code",
   "execution_count": 4,
   "id": "b06d0966",
   "metadata": {},
   "outputs": [
    {
     "name": "stdout",
     "output_type": "stream",
     "text": [
      "Variables numéricas: ['userId', 'movieId', 'timestamp']\n",
      "Variables no numéricas: ['tag']\n",
      "\n",
      "Shape del dataset: (2000072, 4)\n",
      "\n",
      "Información del dataset:\n",
      "<class 'pandas.core.frame.DataFrame'>\n",
      "RangeIndex: 2000072 entries, 0 to 2000071\n",
      "Data columns (total 4 columns):\n",
      " #   Column     Dtype \n",
      "---  ------     ----- \n",
      " 0   userId     int64 \n",
      " 1   movieId    int64 \n",
      " 2   tag        object\n",
      " 3   timestamp  int64 \n",
      "dtypes: int64(3), object(1)\n",
      "memory usage: 61.0+ MB\n",
      "None\n",
      "\n",
      "Valores nulos por columna:\n",
      "tag          17\n",
      "userId        0\n",
      "movieId       0\n",
      "timestamp     0\n",
      "dtype: int64\n",
      "\n",
      "Filas duplicadas:\n",
      "Empty DataFrame\n",
      "Columns: [userId, movieId, tag, timestamp]\n",
      "Index: []\n"
     ]
    }
   ],
   "source": [
    "eda.analisis(tags)"
   ]
  },
  {
   "cell_type": "markdown",
   "id": "2a486ee9",
   "metadata": {},
   "source": [
    "El dataset de etiquetas, *tags*, contiene 4 variables: tres variables numéricas y una variable categórica. Hay 2000072, con 17 valores nulos en la columna *tag*."
   ]
  },
  {
   "cell_type": "markdown",
   "id": "80660e3e",
   "metadata": {},
   "source": [
    "## Análisis Exploratorio de Datos\n",
    "\n",
    "### Eliminar Duplicados\n",
    "\n",
    "Verificamos, para ambos datasets, si existen duplicados usando el *movieId* como clave."
   ]
  },
  {
   "cell_type": "code",
   "execution_count": 5,
   "id": "43da497b",
   "metadata": {},
   "outputs": [
    {
     "data": {
      "text/html": [
       "<div>\n",
       "<style scoped>\n",
       "    .dataframe tbody tr th:only-of-type {\n",
       "        vertical-align: middle;\n",
       "    }\n",
       "\n",
       "    .dataframe tbody tr th {\n",
       "        vertical-align: top;\n",
       "    }\n",
       "\n",
       "    .dataframe thead th {\n",
       "        text-align: right;\n",
       "    }\n",
       "</style>\n",
       "<table border=\"1\" class=\"dataframe\">\n",
       "  <thead>\n",
       "    <tr style=\"text-align: right;\">\n",
       "      <th></th>\n",
       "      <th>movieId</th>\n",
       "      <th>title</th>\n",
       "      <th>genres</th>\n",
       "    </tr>\n",
       "  </thead>\n",
       "  <tbody>\n",
       "    <tr>\n",
       "      <th>0</th>\n",
       "      <td>1</td>\n",
       "      <td>Toy Story (1995)</td>\n",
       "      <td>Adventure|Animation|Children|Comedy|Fantasy</td>\n",
       "    </tr>\n",
       "    <tr>\n",
       "      <th>1</th>\n",
       "      <td>2</td>\n",
       "      <td>Jumanji (1995)</td>\n",
       "      <td>Adventure|Children|Fantasy</td>\n",
       "    </tr>\n",
       "    <tr>\n",
       "      <th>2</th>\n",
       "      <td>3</td>\n",
       "      <td>Grumpier Old Men (1995)</td>\n",
       "      <td>Comedy|Romance</td>\n",
       "    </tr>\n",
       "    <tr>\n",
       "      <th>3</th>\n",
       "      <td>4</td>\n",
       "      <td>Waiting to Exhale (1995)</td>\n",
       "      <td>Comedy|Drama|Romance</td>\n",
       "    </tr>\n",
       "    <tr>\n",
       "      <th>4</th>\n",
       "      <td>5</td>\n",
       "      <td>Father of the Bride Part II (1995)</td>\n",
       "      <td>Comedy</td>\n",
       "    </tr>\n",
       "    <tr>\n",
       "      <th>...</th>\n",
       "      <td>...</td>\n",
       "      <td>...</td>\n",
       "      <td>...</td>\n",
       "    </tr>\n",
       "    <tr>\n",
       "      <th>87580</th>\n",
       "      <td>292731</td>\n",
       "      <td>The Monroy Affaire (2022)</td>\n",
       "      <td>Drama</td>\n",
       "    </tr>\n",
       "    <tr>\n",
       "      <th>87581</th>\n",
       "      <td>292737</td>\n",
       "      <td>Shelter in Solitude (2023)</td>\n",
       "      <td>Comedy|Drama</td>\n",
       "    </tr>\n",
       "    <tr>\n",
       "      <th>87582</th>\n",
       "      <td>292753</td>\n",
       "      <td>Orca (2023)</td>\n",
       "      <td>Drama</td>\n",
       "    </tr>\n",
       "    <tr>\n",
       "      <th>87583</th>\n",
       "      <td>292755</td>\n",
       "      <td>The Angry Breed (1968)</td>\n",
       "      <td>Drama</td>\n",
       "    </tr>\n",
       "    <tr>\n",
       "      <th>87584</th>\n",
       "      <td>292757</td>\n",
       "      <td>Race to the Summit (2023)</td>\n",
       "      <td>Action|Adventure|Documentary</td>\n",
       "    </tr>\n",
       "  </tbody>\n",
       "</table>\n",
       "<p>87585 rows × 3 columns</p>\n",
       "</div>"
      ],
      "text/plain": [
       "       movieId                               title  \\\n",
       "0            1                    Toy Story (1995)   \n",
       "1            2                      Jumanji (1995)   \n",
       "2            3             Grumpier Old Men (1995)   \n",
       "3            4            Waiting to Exhale (1995)   \n",
       "4            5  Father of the Bride Part II (1995)   \n",
       "...        ...                                 ...   \n",
       "87580   292731           The Monroy Affaire (2022)   \n",
       "87581   292737          Shelter in Solitude (2023)   \n",
       "87582   292753                         Orca (2023)   \n",
       "87583   292755              The Angry Breed (1968)   \n",
       "87584   292757           Race to the Summit (2023)   \n",
       "\n",
       "                                            genres  \n",
       "0      Adventure|Animation|Children|Comedy|Fantasy  \n",
       "1                       Adventure|Children|Fantasy  \n",
       "2                                   Comedy|Romance  \n",
       "3                             Comedy|Drama|Romance  \n",
       "4                                           Comedy  \n",
       "...                                            ...  \n",
       "87580                                        Drama  \n",
       "87581                                 Comedy|Drama  \n",
       "87582                                        Drama  \n",
       "87583                                        Drama  \n",
       "87584                 Action|Adventure|Documentary  \n",
       "\n",
       "[87585 rows x 3 columns]"
      ]
     },
     "execution_count": 5,
     "metadata": {},
     "output_type": "execute_result"
    }
   ],
   "source": [
    "movies.drop_duplicates()"
   ]
  },
  {
   "cell_type": "markdown",
   "id": "9f051918",
   "metadata": {},
   "source": [
    "No hay filas duplicadas en el dataset *movies*.\n",
    "\n",
    "### Crear Lista de Géneros\n",
    "\n",
    "Para poder hacer un mejor análisis de los datos, separaremos los géneros en una lista y transformaremos el registro, para que cada movieId tenga un género por fila."
   ]
  },
  {
   "cell_type": "code",
   "execution_count": 6,
   "id": "b5020ac1",
   "metadata": {},
   "outputs": [
    {
     "data": {
      "text/html": [
       "<div>\n",
       "<style scoped>\n",
       "    .dataframe tbody tr th:only-of-type {\n",
       "        vertical-align: middle;\n",
       "    }\n",
       "\n",
       "    .dataframe tbody tr th {\n",
       "        vertical-align: top;\n",
       "    }\n",
       "\n",
       "    .dataframe thead th {\n",
       "        text-align: right;\n",
       "    }\n",
       "</style>\n",
       "<table border=\"1\" class=\"dataframe\">\n",
       "  <thead>\n",
       "    <tr style=\"text-align: right;\">\n",
       "      <th></th>\n",
       "      <th>movieId</th>\n",
       "      <th>title</th>\n",
       "      <th>genres</th>\n",
       "    </tr>\n",
       "  </thead>\n",
       "  <tbody>\n",
       "    <tr>\n",
       "      <th>0</th>\n",
       "      <td>1</td>\n",
       "      <td>Toy Story (1995)</td>\n",
       "      <td>[Adventure, Animation, Children, Comedy, Fantasy]</td>\n",
       "    </tr>\n",
       "    <tr>\n",
       "      <th>1</th>\n",
       "      <td>2</td>\n",
       "      <td>Jumanji (1995)</td>\n",
       "      <td>[Adventure, Children, Fantasy]</td>\n",
       "    </tr>\n",
       "    <tr>\n",
       "      <th>2</th>\n",
       "      <td>3</td>\n",
       "      <td>Grumpier Old Men (1995)</td>\n",
       "      <td>[Comedy, Romance]</td>\n",
       "    </tr>\n",
       "    <tr>\n",
       "      <th>3</th>\n",
       "      <td>4</td>\n",
       "      <td>Waiting to Exhale (1995)</td>\n",
       "      <td>[Comedy, Drama, Romance]</td>\n",
       "    </tr>\n",
       "    <tr>\n",
       "      <th>4</th>\n",
       "      <td>5</td>\n",
       "      <td>Father of the Bride Part II (1995)</td>\n",
       "      <td>[Comedy]</td>\n",
       "    </tr>\n",
       "  </tbody>\n",
       "</table>\n",
       "</div>"
      ],
      "text/plain": [
       "   movieId                               title  \\\n",
       "0        1                    Toy Story (1995)   \n",
       "1        2                      Jumanji (1995)   \n",
       "2        3             Grumpier Old Men (1995)   \n",
       "3        4            Waiting to Exhale (1995)   \n",
       "4        5  Father of the Bride Part II (1995)   \n",
       "\n",
       "                                              genres  \n",
       "0  [Adventure, Animation, Children, Comedy, Fantasy]  \n",
       "1                     [Adventure, Children, Fantasy]  \n",
       "2                                  [Comedy, Romance]  \n",
       "3                           [Comedy, Drama, Romance]  \n",
       "4                                           [Comedy]  "
      ]
     },
     "execution_count": 6,
     "metadata": {},
     "output_type": "execute_result"
    }
   ],
   "source": [
    "movies[\"genres\"] = movies[\"genres\"].str.split(\"|\")\n",
    "\n",
    "movies.head()"
   ]
  },
  {
   "cell_type": "code",
   "execution_count": 7,
   "id": "b2570934",
   "metadata": {},
   "outputs": [
    {
     "data": {
      "text/html": [
       "<div>\n",
       "<style scoped>\n",
       "    .dataframe tbody tr th:only-of-type {\n",
       "        vertical-align: middle;\n",
       "    }\n",
       "\n",
       "    .dataframe tbody tr th {\n",
       "        vertical-align: top;\n",
       "    }\n",
       "\n",
       "    .dataframe thead th {\n",
       "        text-align: right;\n",
       "    }\n",
       "</style>\n",
       "<table border=\"1\" class=\"dataframe\">\n",
       "  <thead>\n",
       "    <tr style=\"text-align: right;\">\n",
       "      <th></th>\n",
       "      <th>movieId</th>\n",
       "      <th>genres</th>\n",
       "    </tr>\n",
       "  </thead>\n",
       "  <tbody>\n",
       "    <tr>\n",
       "      <th>0</th>\n",
       "      <td>1</td>\n",
       "      <td>Adventure</td>\n",
       "    </tr>\n",
       "    <tr>\n",
       "      <th>1</th>\n",
       "      <td>1</td>\n",
       "      <td>Animation</td>\n",
       "    </tr>\n",
       "    <tr>\n",
       "      <th>2</th>\n",
       "      <td>1</td>\n",
       "      <td>Children</td>\n",
       "    </tr>\n",
       "    <tr>\n",
       "      <th>3</th>\n",
       "      <td>1</td>\n",
       "      <td>Comedy</td>\n",
       "    </tr>\n",
       "    <tr>\n",
       "      <th>4</th>\n",
       "      <td>1</td>\n",
       "      <td>Fantasy</td>\n",
       "    </tr>\n",
       "  </tbody>\n",
       "</table>\n",
       "</div>"
      ],
      "text/plain": [
       "   movieId     genres\n",
       "0        1  Adventure\n",
       "1        1  Animation\n",
       "2        1   Children\n",
       "3        1     Comedy\n",
       "4        1    Fantasy"
      ]
     },
     "execution_count": 7,
     "metadata": {},
     "output_type": "execute_result"
    }
   ],
   "source": [
    "movie_genre = movies.explode(\"genres\").reset_index(drop=True)\n",
    "movie_genre.drop(\"title\", axis=1, inplace=True)\n",
    "movie_genre.head()"
   ]
  },
  {
   "cell_type": "markdown",
   "id": "501d80cc",
   "metadata": {},
   "source": [
    "Eliminar las filas duplicadas del dataset *tags* requiere otras consideraciones, pues al tratarse de un dataset creado por los usuarios que han visto la película, pueden existir duplicados. Esto lo vemos, por ejemplo, en la película Pulp Fiction, que tiene 6697 etiquetas. Ya que las etiquetas están relacionadas con el momento de la película (*timestamp*), es posible tener la misma etiqueta varias veces."
   ]
  },
  {
   "cell_type": "code",
   "execution_count": 8,
   "id": "279f5284",
   "metadata": {},
   "outputs": [
    {
     "name": "stdout",
     "output_type": "stream",
     "text": [
      "     movieId                title                            genres\n",
      "292      296  Pulp Fiction (1994)  [Comedy, Crime, Drama, Thriller]\n",
      "userId       6697\n",
      "movieId      6697\n",
      "tag          6697\n",
      "timestamp    6697\n",
      "dtype: int64\n",
      "         userId  movieId     tag   timestamp\n",
      "912         303      296  action  1551552319\n",
      "1200        332      296  action  1438215918\n",
      "14228      2372      296  action  1582233289\n",
      "26160      4859      296  action  1425845174\n",
      "29995      5143      296  action  1565314945\n",
      "...         ...      ...     ...         ...\n",
      "1824963  145435      296  action  1595104559\n",
      "1867320  147969      296  action  1310019101\n",
      "1916541  154003      296  action  1275699249\n",
      "1955157  158906      296  action  1594135958\n",
      "1991874  160642      296  action  1241009210\n",
      "\n",
      "[82 rows x 4 columns]\n"
     ]
    }
   ],
   "source": [
    "# Agrupar por movieId y contar tags\n",
    "tags_count = tags.groupby(\"movieId\")[\"tag\"].count().reset_index()\n",
    "\n",
    "# Obtener el movieId con más tags\n",
    "top_movie_id = tags_count.sort_values(by=\"tag\", ascending=False).iloc[0][\"movieId\"]\n",
    "\n",
    "print(movies[movies[\"movieId\"] == top_movie_id])\n",
    "\n",
    "print(tags[tags[\"movieId\"] == top_movie_id].count())\n",
    "\n",
    "print(tags[(tags[\"movieId\"] == top_movie_id) & (tags[\"tag\"] == \"action\")])"
   ]
  },
  {
   "cell_type": "markdown",
   "id": "6c99e848",
   "metadata": {},
   "source": [
    "Ya que el análisis que haremos estará enfocado en las películas, basta que un tag esté asociado a una película una única vez. Para esto, crearemos un nuevo dataset en el que por cada instancia, una película tenga un único tag asociado."
   ]
  },
  {
   "cell_type": "code",
   "execution_count": 9,
   "id": "b215ca2a",
   "metadata": {},
   "outputs": [
    {
     "name": "stdout",
     "output_type": "stream",
     "text": [
      "movieId    2000072\n",
      "tag        2000055\n",
      "dtype: int64\n"
     ]
    },
    {
     "data": {
      "text/html": [
       "<div>\n",
       "<style scoped>\n",
       "    .dataframe tbody tr th:only-of-type {\n",
       "        vertical-align: middle;\n",
       "    }\n",
       "\n",
       "    .dataframe tbody tr th {\n",
       "        vertical-align: top;\n",
       "    }\n",
       "\n",
       "    .dataframe thead th {\n",
       "        text-align: right;\n",
       "    }\n",
       "</style>\n",
       "<table border=\"1\" class=\"dataframe\">\n",
       "  <thead>\n",
       "    <tr style=\"text-align: right;\">\n",
       "      <th></th>\n",
       "      <th>movieId</th>\n",
       "      <th>tag</th>\n",
       "    </tr>\n",
       "  </thead>\n",
       "  <tbody>\n",
       "    <tr>\n",
       "      <th>0</th>\n",
       "      <td>26479</td>\n",
       "      <td>Kevin Kline</td>\n",
       "    </tr>\n",
       "    <tr>\n",
       "      <th>1</th>\n",
       "      <td>79592</td>\n",
       "      <td>misogyny</td>\n",
       "    </tr>\n",
       "    <tr>\n",
       "      <th>2</th>\n",
       "      <td>247150</td>\n",
       "      <td>acrophobia</td>\n",
       "    </tr>\n",
       "    <tr>\n",
       "      <th>3</th>\n",
       "      <td>2174</td>\n",
       "      <td>music</td>\n",
       "    </tr>\n",
       "    <tr>\n",
       "      <th>4</th>\n",
       "      <td>2174</td>\n",
       "      <td>weird</td>\n",
       "    </tr>\n",
       "  </tbody>\n",
       "</table>\n",
       "</div>"
      ],
      "text/plain": [
       "   movieId          tag\n",
       "0    26479  Kevin Kline\n",
       "1    79592     misogyny\n",
       "2   247150   acrophobia\n",
       "3     2174        music\n",
       "4     2174        weird"
      ]
     },
     "execution_count": 9,
     "metadata": {},
     "output_type": "execute_result"
    }
   ],
   "source": [
    "movie_tag = tags[['movieId', 'tag']].copy()\n",
    "\n",
    "print(movie_tag.count())\n",
    "\n",
    "movie_tag.head()"
   ]
  },
  {
   "cell_type": "markdown",
   "id": "02c8b8a4",
   "metadata": {},
   "source": [
    "Vemos que en este dataset hay varias filas con tags nulos. Estos registros los eliminaremos y, posteriormente, eliminaremos también los duplicados."
   ]
  },
  {
   "cell_type": "code",
   "execution_count": 10,
   "id": "0c39894d",
   "metadata": {},
   "outputs": [],
   "source": [
    "movie_tag = movie_tag.dropna()"
   ]
  },
  {
   "cell_type": "code",
   "execution_count": 11,
   "id": "efc242b4",
   "metadata": {},
   "outputs": [
    {
     "name": "stdout",
     "output_type": "stream",
     "text": [
      "movieId    1086825\n",
      "tag        1086825\n",
      "dtype: int64\n"
     ]
    }
   ],
   "source": [
    "movie_tag = movie_tag.drop_duplicates()\n",
    "\n",
    "print(movie_tag.count())"
   ]
  },
  {
   "cell_type": "code",
   "execution_count": 12,
   "id": "254258a7",
   "metadata": {},
   "outputs": [
    {
     "name": "stdout",
     "output_type": "stream",
     "text": [
      "     movieId                             title          genres\n",
      "314      318  Shawshank Redemption, The (1994)  [Crime, Drama]\n",
      "userId       102929\n",
      "movieId      102929\n",
      "rating       102929\n",
      "timestamp    102929\n",
      "dtype: int64\n",
      "          userId  movieId  rating   timestamp\n",
      "162            2      318     5.0   836423266\n",
      "214            3      318     4.5  1084484559\n",
      "382            5      318     1.0   840764183\n",
      "443            7      318     5.0   840385526\n",
      "506            9      318     4.0  1138474434\n",
      "...          ...      ...     ...         ...\n",
      "31999486  200944      318     5.0  1454247318\n",
      "31999785  200945      318     5.0  1517070023\n",
      "31999896  200946      318     5.0   845271568\n",
      "31999911  200947      318     4.0  1495972857\n",
      "31999989  200948      318     5.0  1203427247\n",
      "\n",
      "[102929 rows x 4 columns]\n"
     ]
    }
   ],
   "source": [
    "# Agrupar por movieId y contar tags\n",
    "ratings_count = ratings.groupby(\"movieId\")[\"rating\"].count().reset_index()\n",
    "\n",
    "# Obtener el movieId con más tags\n",
    "top_movie_id = ratings_count.sort_values(by=\"rating\", ascending=False).iloc[0][\"movieId\"]\n",
    "\n",
    "print(movies[movies[\"movieId\"] == top_movie_id])\n",
    "\n",
    "print(ratings[ratings[\"movieId\"] == top_movie_id].count())\n",
    "\n",
    "print(ratings[(ratings[\"movieId\"] == top_movie_id)])"
   ]
  },
  {
   "cell_type": "code",
   "execution_count": 13,
   "id": "6840231f",
   "metadata": {},
   "outputs": [
    {
     "data": {
      "text/html": [
       "<div>\n",
       "<style scoped>\n",
       "    .dataframe tbody tr th:only-of-type {\n",
       "        vertical-align: middle;\n",
       "    }\n",
       "\n",
       "    .dataframe tbody tr th {\n",
       "        vertical-align: top;\n",
       "    }\n",
       "\n",
       "    .dataframe thead th {\n",
       "        text-align: right;\n",
       "    }\n",
       "</style>\n",
       "<table border=\"1\" class=\"dataframe\">\n",
       "  <thead>\n",
       "    <tr style=\"text-align: right;\">\n",
       "      <th></th>\n",
       "      <th>movieId</th>\n",
       "      <th>avg_rating</th>\n",
       "      <th>num_ratings</th>\n",
       "    </tr>\n",
       "  </thead>\n",
       "  <tbody>\n",
       "    <tr>\n",
       "      <th>0</th>\n",
       "      <td>1</td>\n",
       "      <td>3.897438</td>\n",
       "      <td>68997</td>\n",
       "    </tr>\n",
       "    <tr>\n",
       "      <th>1</th>\n",
       "      <td>2</td>\n",
       "      <td>3.275758</td>\n",
       "      <td>28904</td>\n",
       "    </tr>\n",
       "    <tr>\n",
       "      <th>2</th>\n",
       "      <td>3</td>\n",
       "      <td>3.139447</td>\n",
       "      <td>13134</td>\n",
       "    </tr>\n",
       "    <tr>\n",
       "      <th>3</th>\n",
       "      <td>4</td>\n",
       "      <td>2.845331</td>\n",
       "      <td>2806</td>\n",
       "    </tr>\n",
       "    <tr>\n",
       "      <th>4</th>\n",
       "      <td>5</td>\n",
       "      <td>3.059602</td>\n",
       "      <td>13154</td>\n",
       "    </tr>\n",
       "  </tbody>\n",
       "</table>\n",
       "</div>"
      ],
      "text/plain": [
       "   movieId  avg_rating  num_ratings\n",
       "0        1    3.897438        68997\n",
       "1        2    3.275758        28904\n",
       "2        3    3.139447        13134\n",
       "3        4    2.845331         2806\n",
       "4        5    3.059602        13154"
      ]
     },
     "execution_count": 13,
     "metadata": {},
     "output_type": "execute_result"
    }
   ],
   "source": [
    "movie_rating = (\n",
    "    ratings.groupby(\"movieId\")[\"rating\"]\n",
    "    .agg([\"mean\", \"count\"])\n",
    "    .reset_index()\n",
    "    .rename(columns={\"mean\": \"avg_rating\", \"count\": \"num_ratings\"})\n",
    ")\n",
    "\n",
    "movie_rating.head()\n"
   ]
  },
  {
   "cell_type": "markdown",
   "id": "8e3f2e73",
   "metadata": {},
   "source": [
    "### Análisis Univariante\n",
    "\n",
    "#### Variables Categóricas"
   ]
  },
  {
   "cell_type": "code",
   "execution_count": 14,
   "id": "6390ed87",
   "metadata": {},
   "outputs": [
    {
     "data": {
      "image/png": "[encoded data removed]",
      "text/plain": [
       "<Figure size 1200x500 with 2 Axes>"
      ]
     },
     "metadata": {},
     "output_type": "display_data"
    }
   ],
   "source": [
    "eda.plot_categorical_data(movie_genre)"
   ]
  },
  {
   "cell_type": "code",
   "execution_count": 15,
   "id": "2a086653",
   "metadata": {},
   "outputs": [
    {
     "ename": "",
     "evalue": "",
     "output_type": "error",
     "traceback": [
      "\u001b[1;31mThe Kernel crashed while executing code in the current cell or a previous cell. \n",
      "\u001b[1;31mPlease review the code in the cell(s) to identify a possible cause of the failure. \n",
      "\u001b[1;31mClick <a href='https://aka.ms/vscodeJupyterKernelCrash'>here</a> for more info. \n",
      "\u001b[1;31mView Jupyter <a href='command:jupyter.viewOutput'>log</a> for further details."
     ]
    }
   ],
   "source": [
    "eda.plot_categorical_data(movie_tag)"
   ]
  }
 ],
 "metadata": {
  "kernelspec": {
   "display_name": "Python 3",
   "language": "python",
   "name": "python3"
  },
  "language_info": {
   "codemirror_mode": {
    "name": "ipython",
    "version": 3
   },
   "file_extension": ".py",
   "mimetype": "text/x-python",
   "name": "python",
   "nbconvert_exporter": "python",
   "pygments_lexer": "ipython3",
   "version": "3.11.4"
  }
 },
 "nbformat": 4,
 "nbformat_minor": 5
}
